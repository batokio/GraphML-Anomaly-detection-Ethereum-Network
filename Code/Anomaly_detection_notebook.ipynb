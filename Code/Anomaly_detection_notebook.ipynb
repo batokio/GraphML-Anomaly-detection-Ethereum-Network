{
 "cells": [
  {
   "cell_type": "markdown",
   "id": "18d3942e",
   "metadata": {},
   "source": [
    "# Import python scripts"
   ]
  },
  {
   "cell_type": "code",
   "execution_count": 26,
   "id": "38879cbe",
   "metadata": {
    "ExecuteTime": {
     "end_time": "2022-04-17T16:51:45.142814Z",
     "start_time": "2022-04-17T16:51:45.119503Z"
    }
   },
   "outputs": [],
   "source": [
    "# imports.py\n",
    "%run -i 'imports.py'\n",
    "\n",
    "# imports.py\n",
    "%run -i 'preprocessing.py'\n",
    "\n",
    "# utils.py\n",
    "%run -i 'utils.py'\n",
    "\n",
    "# DeltaCon.py\n",
    "%run -i 'DeltaCon.py'\n"
   ]
  },
  {
   "cell_type": "code",
   "execution_count": 2,
   "id": "e9cbb9bb",
   "metadata": {
    "ExecuteTime": {
     "end_time": "2022-04-17T16:31:16.101647Z",
     "start_time": "2022-04-17T16:31:16.100024Z"
    }
   },
   "outputs": [],
   "source": [
    "path = '/Users/Bryan/Documents/Cours_local/MLNS/'\n",
    "filepath_full_data = path + 'Data/Jan19-31.csv'\n",
    "savepath = path + 'Data/'"
   ]
  },
  {
   "cell_type": "markdown",
   "id": "3c68e225",
   "metadata": {},
   "source": [
    "# Preprocessing"
   ]
  },
  {
   "cell_type": "markdown",
   "id": "bfac3fbd",
   "metadata": {},
   "source": [
    "## Create a conversion table that maps wallets to a single index"
   ]
  },
  {
   "cell_type": "code",
   "execution_count": 3,
   "id": "7b32d826",
   "metadata": {
    "ExecuteTime": {
     "end_time": "2022-04-17T16:33:09.819908Z",
     "start_time": "2022-04-17T16:31:16.104138Z"
    },
    "scrolled": true
   },
   "outputs": [
    {
     "data": {
      "application/vnd.jupyter.widget-view+json": {
       "model_id": "66c027d1b9464165b3a9a1a32964020c",
       "version_major": 2,
       "version_minor": 0
      },
      "text/plain": [
       "  0%|          | 0/8125454 [00:00<?, ?it/s]"
      ]
     },
     "metadata": {},
     "output_type": "display_data"
    },
    {
     "name": "stdout",
     "output_type": "stream",
     "text": [
      "Number of sources: 2,022,551\n",
      "Number of targets: 2,560,511\n",
      "Number of wallets: 3,112,764\n"
     ]
    }
   ],
   "source": [
    "full_df, conversion_df = wal_conversion_table(filepath_full_data, savepath)"
   ]
  },
  {
   "cell_type": "markdown",
   "id": "33132d73",
   "metadata": {},
   "source": [
    "## Preprocess dataframes"
   ]
  },
  {
   "cell_type": "code",
   "execution_count": 4,
   "id": "26015d00",
   "metadata": {
    "ExecuteTime": {
     "end_time": "2022-04-17T16:33:23.350783Z",
     "start_time": "2022-04-17T16:33:09.823074Z"
    }
   },
   "outputs": [],
   "source": [
    "# Load conversion table\n",
    "conversion_df = pd.read_csv(savepath + 'conversion_df.csv')\n",
    "\n",
    "# Load csv files\n",
    "Jan19_31 = pd.read_csv(savepath + 'Jan19-31.csv')"
   ]
  },
  {
   "cell_type": "code",
   "execution_count": 7,
   "id": "8af5b8d6",
   "metadata": {
    "ExecuteTime": {
     "end_time": "2022-04-17T16:34:23.238802Z",
     "start_time": "2022-04-17T16:34:09.143496Z"
    }
   },
   "outputs": [],
   "source": [
    "Jan19_31_clean = preprocessing(Jan19_31, conversion_df)"
   ]
  },
  {
   "cell_type": "code",
   "execution_count": 8,
   "id": "650db409",
   "metadata": {
    "ExecuteTime": {
     "end_time": "2022-04-17T16:34:25.475560Z",
     "start_time": "2022-04-17T16:34:25.441651Z"
    }
   },
   "outputs": [
    {
     "data": {
      "text/html": [
       "<div>\n",
       "<style scoped>\n",
       "    .dataframe tbody tr th:only-of-type {\n",
       "        vertical-align: middle;\n",
       "    }\n",
       "\n",
       "    .dataframe tbody tr th {\n",
       "        vertical-align: top;\n",
       "    }\n",
       "\n",
       "    .dataframe thead th {\n",
       "        text-align: right;\n",
       "    }\n",
       "</style>\n",
       "<table border=\"1\" class=\"dataframe\">\n",
       "  <thead>\n",
       "    <tr style=\"text-align: right;\">\n",
       "      <th></th>\n",
       "      <th>from_address_idx</th>\n",
       "      <th>to_address_idx</th>\n",
       "      <th>value_eth</th>\n",
       "      <th>gas_price_eth</th>\n",
       "      <th>receipt_gas_used_eth</th>\n",
       "      <th>block_timestamp_true</th>\n",
       "    </tr>\n",
       "  </thead>\n",
       "  <tbody>\n",
       "    <tr>\n",
       "      <th>0</th>\n",
       "      <td>693061</td>\n",
       "      <td>1660284</td>\n",
       "      <td>0.105000</td>\n",
       "      <td>1.731913e-07</td>\n",
       "      <td>1.883960e-13</td>\n",
       "      <td>2022-01-21 01:09:11</td>\n",
       "    </tr>\n",
       "    <tr>\n",
       "      <th>1</th>\n",
       "      <td>1393535</td>\n",
       "      <td>1229806</td>\n",
       "      <td>0.030000</td>\n",
       "      <td>1.389635e-07</td>\n",
       "      <td>2.132120e-13</td>\n",
       "      <td>2022-01-21 06:52:46</td>\n",
       "    </tr>\n",
       "    <tr>\n",
       "      <th>2</th>\n",
       "      <td>1373817</td>\n",
       "      <td>2340407</td>\n",
       "      <td>0.250000</td>\n",
       "      <td>1.863264e-07</td>\n",
       "      <td>4.503800e-14</td>\n",
       "      <td>2022-01-21 02:16:07</td>\n",
       "    </tr>\n",
       "    <tr>\n",
       "      <th>3</th>\n",
       "      <td>1307110</td>\n",
       "      <td>1596705</td>\n",
       "      <td>0.250000</td>\n",
       "      <td>1.439465e-07</td>\n",
       "      <td>9.470600e-14</td>\n",
       "      <td>2022-01-21 18:45:15</td>\n",
       "    </tr>\n",
       "    <tr>\n",
       "      <th>4</th>\n",
       "      <td>1943030</td>\n",
       "      <td>482388</td>\n",
       "      <td>0.150000</td>\n",
       "      <td>7.681043e-08</td>\n",
       "      <td>5.221710e-13</td>\n",
       "      <td>2022-01-21 12:26:16</td>\n",
       "    </tr>\n",
       "    <tr>\n",
       "      <th>...</th>\n",
       "      <td>...</td>\n",
       "      <td>...</td>\n",
       "      <td>...</td>\n",
       "      <td>...</td>\n",
       "      <td>...</td>\n",
       "      <td>...</td>\n",
       "    </tr>\n",
       "    <tr>\n",
       "      <th>8125449</th>\n",
       "      <td>1587629</td>\n",
       "      <td>1014644</td>\n",
       "      <td>0.225500</td>\n",
       "      <td>1.416767e-07</td>\n",
       "      <td>2.100000e-14</td>\n",
       "      <td>2022-01-27 19:42:36</td>\n",
       "    </tr>\n",
       "    <tr>\n",
       "      <th>8125450</th>\n",
       "      <td>2345714</td>\n",
       "      <td>2914477</td>\n",
       "      <td>0.033584</td>\n",
       "      <td>1.234891e-07</td>\n",
       "      <td>2.100000e-14</td>\n",
       "      <td>2022-01-27 09:17:38</td>\n",
       "    </tr>\n",
       "    <tr>\n",
       "      <th>8125451</th>\n",
       "      <td>795581</td>\n",
       "      <td>2255951</td>\n",
       "      <td>0.300000</td>\n",
       "      <td>1.798086e-07</td>\n",
       "      <td>2.100000e-14</td>\n",
       "      <td>2022-01-27 17:51:02</td>\n",
       "    </tr>\n",
       "    <tr>\n",
       "      <th>8125452</th>\n",
       "      <td>2712630</td>\n",
       "      <td>983838</td>\n",
       "      <td>0.540000</td>\n",
       "      <td>2.458474e-07</td>\n",
       "      <td>2.100000e-14</td>\n",
       "      <td>2022-01-27 17:59:38</td>\n",
       "    </tr>\n",
       "    <tr>\n",
       "      <th>8125453</th>\n",
       "      <td>50379</td>\n",
       "      <td>1754629</td>\n",
       "      <td>0.110557</td>\n",
       "      <td>1.078426e-07</td>\n",
       "      <td>2.100000e-14</td>\n",
       "      <td>2022-01-27 07:34:00</td>\n",
       "    </tr>\n",
       "  </tbody>\n",
       "</table>\n",
       "<p>8125454 rows × 6 columns</p>\n",
       "</div>"
      ],
      "text/plain": [
       "         from_address_idx  to_address_idx  value_eth  gas_price_eth  \\\n",
       "0                  693061         1660284   0.105000   1.731913e-07   \n",
       "1                 1393535         1229806   0.030000   1.389635e-07   \n",
       "2                 1373817         2340407   0.250000   1.863264e-07   \n",
       "3                 1307110         1596705   0.250000   1.439465e-07   \n",
       "4                 1943030          482388   0.150000   7.681043e-08   \n",
       "...                   ...             ...        ...            ...   \n",
       "8125449           1587629         1014644   0.225500   1.416767e-07   \n",
       "8125450           2345714         2914477   0.033584   1.234891e-07   \n",
       "8125451            795581         2255951   0.300000   1.798086e-07   \n",
       "8125452           2712630          983838   0.540000   2.458474e-07   \n",
       "8125453             50379         1754629   0.110557   1.078426e-07   \n",
       "\n",
       "         receipt_gas_used_eth block_timestamp_true  \n",
       "0                1.883960e-13  2022-01-21 01:09:11  \n",
       "1                2.132120e-13  2022-01-21 06:52:46  \n",
       "2                4.503800e-14  2022-01-21 02:16:07  \n",
       "3                9.470600e-14  2022-01-21 18:45:15  \n",
       "4                5.221710e-13  2022-01-21 12:26:16  \n",
       "...                       ...                  ...  \n",
       "8125449          2.100000e-14  2022-01-27 19:42:36  \n",
       "8125450          2.100000e-14  2022-01-27 09:17:38  \n",
       "8125451          2.100000e-14  2022-01-27 17:51:02  \n",
       "8125452          2.100000e-14  2022-01-27 17:59:38  \n",
       "8125453          2.100000e-14  2022-01-27 07:34:00  \n",
       "\n",
       "[8125454 rows x 6 columns]"
      ]
     },
     "execution_count": 8,
     "metadata": {},
     "output_type": "execute_result"
    }
   ],
   "source": [
    "Jan19_31_clean"
   ]
  },
  {
   "cell_type": "markdown",
   "id": "cd9d62a9",
   "metadata": {},
   "source": [
    "# Create dataframe for each timeframe"
   ]
  },
  {
   "cell_type": "markdown",
   "id": "de3056b2",
   "metadata": {},
   "source": [
    "##  Create lists with storing dates as strings and datatimes"
   ]
  },
  {
   "cell_type": "code",
   "execution_count": 11,
   "id": "c2ea1446",
   "metadata": {
    "ExecuteTime": {
     "end_time": "2022-04-17T16:38:58.794873Z",
     "start_time": "2022-04-17T16:38:58.760959Z"
    }
   },
   "outputs": [
    {
     "data": {
      "application/vnd.jupyter.widget-view+json": {
       "model_id": "89809b311d424a63a7e63d724520dc3b",
       "version_major": 2,
       "version_minor": 0
      },
      "text/plain": [
       "  0%|          | 0/96 [00:00<?, ?it/s]"
      ]
     },
     "metadata": {},
     "output_type": "display_data"
    }
   ],
   "source": [
    "x = datetime.strptime('2022-01-20 16:00:00', '%Y-%m-%d %H:%M:%S')\n",
    "\n",
    "list_timelines = []\n",
    "list_datetime = []\n",
    "\n",
    "n = 96\n",
    "\n",
    "for i in tqdm(range(0, n)):\n",
    "    dt = x + timedelta(hours=i)\n",
    "    list_datetime.append(dt)\n",
    "    list_timelines.append(dt.strftime('%Y-%m-%d %H:%M:%S'))"
   ]
  },
  {
   "cell_type": "code",
   "execution_count": 12,
   "id": "58e82aab",
   "metadata": {
    "ExecuteTime": {
     "end_time": "2022-04-17T16:39:14.224247Z",
     "start_time": "2022-04-17T16:39:14.187991Z"
    }
   },
   "outputs": [
    {
     "data": {
      "application/vnd.jupyter.widget-view+json": {
       "model_id": "0b61d6ef18d140bdb2e0f0efa3e7fa32",
       "version_major": 2,
       "version_minor": 0
      },
      "text/plain": [
       "  0%|          | 0/96 [00:00<?, ?it/s]"
      ]
     },
     "metadata": {},
     "output_type": "display_data"
    }
   ],
   "source": [
    "# Get the file_names\n",
    "file_names = []\n",
    "\n",
    "for i in tqdm(range(0, n)):\n",
    "    \n",
    "    dt = list_datetime[i]\n",
    "    file_names.append('2022_0' + str(dt.month) + '_' + str(dt.day) + '_' + str(dt.hour) + '.csv')"
   ]
  },
  {
   "cell_type": "markdown",
   "id": "5b2c1a78",
   "metadata": {},
   "source": [
    "## Generate csv"
   ]
  },
  {
   "cell_type": "code",
   "execution_count": null,
   "id": "9ddd8d92",
   "metadata": {},
   "outputs": [],
   "source": [
    "for i in tqdm(range(len(list_timelines)-1)):\n",
    "    \n",
    "    # Generate the dataframe\n",
    "    df = df_full[(df_full['block_timestamp_true'] >= list_timelines[i]) & (df_full['block_timestamp_true'] < list_timelines[i+1])]\n",
    "    \n",
    "    # Get the datetimes\n",
    "    dt = list_datetime[i]\n",
    "    \n",
    "    # Generate the names\n",
    "    name_csv = '2022_0' + str(dt.month) + '_' + str(dt.day) + '_' + str(dt.hour) + '.csv'\n",
    "    \n",
    "    # save the csv to the save path\n",
    "    df.to_csv(savepath+ name_csv, sep = ',', index = False)\n",
    "    "
   ]
  },
  {
   "cell_type": "markdown",
   "id": "85d0df8b",
   "metadata": {},
   "source": [
    "# Anomaly Detection"
   ]
  },
  {
   "cell_type": "markdown",
   "id": "afe5a394",
   "metadata": {},
   "source": [
    "## Compute Similarities"
   ]
  },
  {
   "cell_type": "code",
   "execution_count": 29,
   "id": "cc8da17a",
   "metadata": {
    "ExecuteTime": {
     "end_time": "2022-04-17T16:57:30.149830Z",
     "start_time": "2022-04-17T16:57:30.140831Z"
    }
   },
   "outputs": [],
   "source": [
    "similarity = sim_computation(list_timelines)"
   ]
  },
  {
   "cell_type": "code",
   "execution_count": 19,
   "id": "1df961ae",
   "metadata": {
    "ExecuteTime": {
     "end_time": "2022-04-17T16:48:48.218460Z",
     "start_time": "2022-04-17T16:48:48.212977Z"
    }
   },
   "outputs": [],
   "source": [
    "# create the dataframe\n",
    "similarities_df = pd.DataFrame(list(zip(list_timelines[:-2], similarity)), \n",
    "                               columns =['time', 'similarity'])"
   ]
  },
  {
   "cell_type": "code",
   "execution_count": 20,
   "id": "e2e303c1",
   "metadata": {
    "ExecuteTime": {
     "end_time": "2022-04-17T16:49:07.979611Z",
     "start_time": "2022-04-17T16:49:07.969697Z"
    }
   },
   "outputs": [],
   "source": [
    "# Fill nan values with the mean\n",
    "\n",
    "similarities_df['similarity'].fillna(value=np.mean(similarities_df['similarity']), inplace=True)"
   ]
  },
  {
   "cell_type": "code",
   "execution_count": null,
   "id": "98242205",
   "metadata": {},
   "outputs": [],
   "source": [
    "# Save the dataframe\n",
    "with open(savepath + 'anomaly_detection/similarities_df.pkl', 'wb') as f:\n",
    "  pickle.dump(similarities_df, f)"
   ]
  },
  {
   "cell_type": "code",
   "execution_count": 24,
   "id": "ccf35bf5",
   "metadata": {
    "ExecuteTime": {
     "end_time": "2022-04-17T16:50:31.523083Z",
     "start_time": "2022-04-17T16:50:31.514143Z"
    }
   },
   "outputs": [],
   "source": [
    "# Load the similarity dataframe\n",
    "\n",
    "similarities_df = pickle.load(open(savepath +'anomaly_detection/similarities_df.pkl', \n",
    "                                   'rb'))"
   ]
  },
  {
   "cell_type": "markdown",
   "id": "36f9221d",
   "metadata": {},
   "source": [
    "## Plot the observations"
   ]
  },
  {
   "cell_type": "code",
   "execution_count": 27,
   "id": "142b3f77",
   "metadata": {
    "ExecuteTime": {
     "end_time": "2022-04-17T16:51:58.640901Z",
     "start_time": "2022-04-17T16:51:57.353748Z"
    }
   },
   "outputs": [
    {
     "data": {
      "image/png": "[encoded data removed]",
      "text/plain": [
       "<Figure size 1440x1080 with 1 Axes>"
      ]
     },
     "metadata": {
      "needs_background": "light"
     },
     "output_type": "display_data"
    }
   ],
   "source": [
    "lollipop_chart(similarities_df, k=2)"
   ]
  },
  {
   "cell_type": "code",
   "execution_count": 30,
   "id": "c4f6e9d4",
   "metadata": {
    "ExecuteTime": {
     "end_time": "2022-04-17T16:57:36.355087Z",
     "start_time": "2022-04-17T16:57:36.334244Z"
    }
   },
   "outputs": [
    {
     "data": {
      "text/plain": [
       "count    94.000000\n",
       "mean      0.012058\n",
       "std       0.009747\n",
       "min       0.001629\n",
       "25%       0.004917\n",
       "50%       0.010149\n",
       "75%       0.016222\n",
       "max       0.045021\n",
       "Name: similarity, dtype: float64"
      ]
     },
     "execution_count": 30,
     "metadata": {},
     "output_type": "execute_result"
    }
   ],
   "source": [
    "similarities_df.similarity.describe()"
   ]
  }
 ],
 "metadata": {
  "kernelspec": {
   "display_name": "Python 3.9.9 64-bit",
   "language": "python",
   "name": "python399jvsc74a57bd0aee8b7b246df8f9039afb4144a1f6fd8d2ca17a180786b69acc140d282b71a49"
  },
  "language_info": {
   "codemirror_mode": {
    "name": "ipython",
    "version": 3
   },
   "file_extension": ".py",
   "mimetype": "text/x-python",
   "name": "python",
   "nbconvert_exporter": "python",
   "pygments_lexer": "ipython3",
   "version": "3.9.9"
  },
  "toc": {
   "base_numbering": 1,
   "nav_menu": {},
   "number_sections": true,
   "sideBar": true,
   "skip_h1_title": false,
   "title_cell": "Table of Contents",
   "title_sidebar": "Contents",
   "toc_cell": false,
   "toc_position": {},
   "toc_section_display": true,
   "toc_window_display": false
  },
  "varInspector": {
   "cols": {
    "lenName": 16,
    "lenType": 16,
    "lenVar": 40
   },
   "kernels_config": {
    "python": {
     "delete_cmd_postfix": "",
     "delete_cmd_prefix": "del ",
     "library": "var_list.py",
     "varRefreshCmd": "print(var_dic_list())"
    },
    "r": {
     "delete_cmd_postfix": ") ",
     "delete_cmd_prefix": "rm(",
     "library": "var_list.r",
     "varRefreshCmd": "cat(var_dic_list()) "
    }
   },
   "types_to_exclude": [
    "module",
    "function",
    "builtin_function_or_method",
    "instance",
    "_Feature"
   ],
   "window_display": false
  }
 },
 "nbformat": 4,
 "nbformat_minor": 5
}
